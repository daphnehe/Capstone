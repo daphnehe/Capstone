{
 "cells": [
  {
   "cell_type": "code",
   "execution_count": 2,
   "id": "7bad5c5a",
   "metadata": {},
   "outputs": [],
   "source": [
    "import json\n",
    "import pandas as pd"
   ]
  },
  {
   "cell_type": "code",
   "execution_count": 3,
   "id": "dfe20923",
   "metadata": {},
   "outputs": [],
   "source": [
    "# Function to load JSON data into a DataFrame\n",
    "def load_json_to_df(json_file):\n",
    "    with open(json_file, 'r') as file:\n",
    "        data = json.load(file)\n",
    "    return pd.DataFrame.from_dict(data, orient='index')\n",
    "\n",
    "# List of JSON files\n",
    "json_files = ['HR_filtered.json', 'HF_filtered.json', 'MR_filtered.json', 'MF_filtered.json']\n",
    "dfs = []\n",
    "\n",
    "# Load each JSON file into a DataFrame and store them in a list\n",
    "for json_file in json_files:\n",
    "    df = load_json_to_df('data/' + json_file)\n",
    "    dfs.append(df)\n",
    "\n",
    "# Naming the DataFrames\n",
    "HR_df, HF_df, MR_df, MF_df = dfs"
   ]
  },
  {
   "cell_type": "code",
   "execution_count": 21,
   "id": "31947965",
   "metadata": {},
   "outputs": [],
   "source": [
    "HR = HR_df['filtered']\n",
    "HF = HF_df['filtered']\n",
    "MR = MR_df['filtered']\n",
    "MF = MF_df['filtered']"
   ]
  },
  {
   "cell_type": "code",
   "execution_count": 8,
   "id": "13f8fbe4",
   "metadata": {},
   "outputs": [],
   "source": [
    "from sklearn.model_selection import train_test_split\n",
    "from sklearn.feature_extraction.text import TfidfVectorizer\n",
    "from sklearn.linear_model import LogisticRegression\n",
    "from sklearn.naive_bayes import MultinomialNB\n",
    "from sklearn.metrics import accuracy_score, classification_report"
   ]
  },
  {
   "cell_type": "code",
   "execution_count": 10,
   "id": "c7f4329d",
   "metadata": {},
   "outputs": [],
   "source": [
    "# Concatenate all data into one DataFrame\n",
    "df = pd.concat([HR, HF, MR, MF], ignore_index=True)\n",
    "\n",
    "# Assigning labels: 0 for human news, 1 for AI news\n",
    "labels = [0]*len(HR) + [0]*len(HF) + [1]*len(MR) + [1]*len(MF)\n",
    "\n",
    "# Splitting the data into training and testing sets\n",
    "X_train, X_test, y_train, y_test = train_test_split(df, labels, test_size=0.2, random_state=42)"
   ]
  },
  {
   "cell_type": "code",
   "execution_count": 12,
   "id": "af0b09f8",
   "metadata": {},
   "outputs": [],
   "source": [
    "# Creating TF-IDF vectorizer\n",
    "tfidf_vectorizer = TfidfVectorizer(max_features=5000)\n",
    "X_train_tfidf = tfidf_vectorizer.fit_transform(X_train)\n",
    "X_test_tfidf = tfidf_vectorizer.transform(X_test)"
   ]
  },
  {
   "cell_type": "markdown",
   "id": "1feffeb1",
   "metadata": {},
   "source": [
    "# Logistic Regression Human vs AI Prediction"
   ]
  },
  {
   "cell_type": "code",
   "execution_count": 13,
   "id": "1f791534",
   "metadata": {},
   "outputs": [],
   "source": [
    "# Logistic Regression model\n",
    "logistic_regression_model = LogisticRegression(max_iter=1000)\n",
    "logistic_regression_model.fit(X_train_tfidf, y_train)\n",
    "logistic_regression_predictions = logistic_regression_model.predict(X_test_tfidf)"
   ]
  },
  {
   "cell_type": "code",
   "execution_count": 22,
   "id": "9802562c",
   "metadata": {},
   "outputs": [
    {
     "name": "stdout",
     "output_type": "stream",
     "text": [
      "Logistic Regression Accuracy: 0.9802910855063675\n",
      "Logistic Regression Classification Report:\n",
      "              precision    recall  f1-score   support\n",
      "\n",
      "           0       0.97      1.00      0.98      1651\n",
      "           1       0.99      0.97      0.98      1647\n",
      "\n",
      "    accuracy                           0.98      3298\n",
      "   macro avg       0.98      0.98      0.98      3298\n",
      "weighted avg       0.98      0.98      0.98      3298\n",
      "\n"
     ]
    },
    {
     "data": {
      "image/png": "[encoded data removed]",
      "text/plain": [
       "<Figure size 864x360 with 2 Axes>"
      ]
     },
     "metadata": {
      "needs_background": "light"
     },
     "output_type": "display_data"
    }
   ],
   "source": [
    "# Lists to store accuracy and loss values\n",
    "train_accuracy = []\n",
    "val_accuracy = []\n",
    "train_loss = []\n",
    "val_loss = []\n",
    "\n",
    "# Train the model and store accuracy and loss values\n",
    "for epoch in range(100):\n",
    "    logistic_regression_model.fit(X_train_tfidf, y_train)\n",
    "    \n",
    "    # Calculate training accuracy and loss\n",
    "    train_preds = logistic_regression_model.predict(X_train_tfidf)\n",
    "    train_accuracy.append(accuracy_score(y_train, train_preds))\n",
    "    train_loss.append(logistic_regression_model.fit(X_train_tfidf, y_train).score(X_train_tfidf, y_train))\n",
    "    \n",
    "    # Calculate validation accuracy and loss\n",
    "    val_preds = logistic_regression_model.predict(X_test_tfidf)\n",
    "    val_accuracy.append(accuracy_score(y_test, val_preds))\n",
    "    val_loss.append(logistic_regression_model.score(X_test_tfidf, y_test))\n",
    "\n",
    "# Evaluate Logistic Regression model\n",
    "print(\"Logistic Regression Accuracy:\", accuracy_score(y_test, logistic_regression_model.predict(X_test_tfidf)))\n",
    "print(\"Logistic Regression Classification Report:\")\n",
    "print(classification_report(y_test, logistic_regression_model.predict(X_test_tfidf)))\n",
    "\n",
    "# Plot accuracy and loss curves\n",
    "epochs = range(1, len(train_accuracy) + 1)\n",
    "\n",
    "plt.figure(figsize=(12, 5))\n",
    "plt.subplot(1, 2, 1)\n",
    "plt.plot(epochs, train_accuracy, 'bo-', label='Training Accuracy')\n",
    "plt.plot(epochs, val_accuracy, 'ro-', label='Validation Accuracy')\n",
    "plt.xlabel('Epochs')\n",
    "plt.ylabel('Accuracy')\n",
    "plt.title('Accuracy Curves')\n",
    "plt.legend()\n",
    "\n",
    "plt.subplot(1, 2, 2)\n",
    "plt.plot(epochs, train_loss, 'bo-', label='Training Loss')\n",
    "plt.plot(epochs, val_loss, 'ro-', label='Validation Loss')\n",
    "plt.xlabel('Epochs')\n",
    "plt.ylabel('Loss')\n",
    "plt.title('Loss Curves')\n",
    "plt.legend()\n",
    "\n",
    "plt.tight_layout()\n",
    "plt.show()"
   ]
  },
  {
   "cell_type": "code",
   "execution_count": 26,
   "id": "bc124a2c",
   "metadata": {},
   "outputs": [
    {
     "name": "stdout",
     "output_type": "stream",
     "text": [
      "Best Parameters: {'C': 10, 'max_iter': 100, 'penalty': 'l2', 'solver': 'liblinear'}\n",
      "Best Accuracy Score: 0.9829440931085334\n",
      "Test Accuracy: 0.9805942995755003\n",
      "Test Classification Report:\n",
      "              precision    recall  f1-score   support\n",
      "\n",
      "           0       0.97      0.99      0.98      1651\n",
      "           1       0.99      0.97      0.98      1647\n",
      "\n",
      "    accuracy                           0.98      3298\n",
      "   macro avg       0.98      0.98      0.98      3298\n",
      "weighted avg       0.98      0.98      0.98      3298\n",
      "\n",
      "Best Parameters: {'solver': 'liblinear', 'penalty': 'l2', 'max_iter': 500, 'C': 10}\n",
      "Best Accuracy Score: 0.9829440931085334\n",
      "Test Accuracy: 0.9805942995755003\n",
      "Test Classification Report:\n",
      "              precision    recall  f1-score   support\n",
      "\n",
      "           0       0.97      0.99      0.98      1651\n",
      "           1       0.99      0.97      0.98      1647\n",
      "\n",
      "    accuracy                           0.98      3298\n",
      "   macro avg       0.98      0.98      0.98      3298\n",
      "weighted avg       0.98      0.98      0.98      3298\n",
      "\n"
     ]
    }
   ],
   "source": [
    "from sklearn.model_selection import GridSearchCV, RandomizedSearchCV\n",
    "from sklearn.linear_model import LogisticRegression\n",
    "from sklearn.metrics import accuracy_score, classification_report\n",
    "\n",
    "# Create the TF-IDF vectorizer and transform the data\n",
    "tfidf_vectorizer = TfidfVectorizer(max_features=5000)\n",
    "X_train_tfidf = tfidf_vectorizer.fit_transform(X_train)\n",
    "X_test_tfidf = tfidf_vectorizer.transform(X_test)\n",
    "\n",
    "# Define the parameter grid for GridSearchCV\n",
    "param_grid = {\n",
    "    'penalty': ['l1', 'l2'],\n",
    "    'C': [0.001, 0.01, 0.1, 1, 10, 100],\n",
    "    'solver': ['liblinear', 'saga'],\n",
    "    'max_iter': [100, 500, 1000]\n",
    "}\n",
    "\n",
    "# Create a logistic regression model\n",
    "logistic_regression_model = LogisticRegression()\n",
    "\n",
    "# Perform GridSearchCV\n",
    "grid_search = GridSearchCV(estimator=logistic_regression_model, param_grid=param_grid, cv=5, scoring='accuracy', n_jobs=-1)\n",
    "grid_search.fit(X_train_tfidf, y_train)\n",
    "\n",
    "# Print the best parameters and the corresponding score\n",
    "print(\"Best Parameters:\", grid_search.best_params_)\n",
    "print(\"Best Accuracy Score:\", grid_search.best_score_)\n",
    "\n",
    "# Evaluate the model with the best parameters on the test set\n",
    "best_model = grid_search.best_estimator_\n",
    "y_pred = best_model.predict(X_test_tfidf)\n",
    "print(\"Test Accuracy:\", accuracy_score(y_test, y_pred))\n",
    "print(\"Test Classification Report:\")\n",
    "print(classification_report(y_test, y_pred))\n",
    "\n",
    "# Alternatively, you can use RandomizedSearchCV for a faster search\n",
    "# Define the parameter distributions for RandomizedSearchCV\n",
    "param_distributions = {\n",
    "    'penalty': ['l1', 'l2'],\n",
    "    'C': [0.001, 0.01, 0.1, 1, 10, 100],\n",
    "    'solver': ['liblinear', 'saga'],\n",
    "    'max_iter': [100, 500, 1000]\n",
    "}\n",
    "\n",
    "# Perform RandomizedSearchCV\n",
    "random_search = RandomizedSearchCV(estimator=logistic_regression_model, param_distributions=param_distributions, cv=5, scoring='accuracy', n_jobs=-1, n_iter=20)\n",
    "random_search.fit(X_train_tfidf, y_train)\n",
    "\n",
    "# Print the best parameters and the corresponding score\n",
    "print(\"Best Parameters:\", random_search.best_params_)\n",
    "print(\"Best Accuracy Score:\", random_search.best_score_)\n",
    "\n",
    "# Evaluate the model with the best parameters on the test set\n",
    "best_model = random_search.best_estimator_\n",
    "y_pred = best_model.predict(X_test_tfidf)\n",
    "print(\"Test Accuracy:\", accuracy_score(y_test, y_pred))\n",
    "print(\"Test Classification Report:\")\n",
    "print(classification_report(y_test, y_pred))\n"
   ]
  },
  {
   "cell_type": "code",
   "execution_count": 28,
   "id": "a5464a46",
   "metadata": {},
   "outputs": [
    {
     "data": {
      "image/png": "[encoded data removed]",
      "text/plain": [
       "<Figure size 720x432 with 1 Axes>"
      ]
     },
     "metadata": {
      "needs_background": "light"
     },
     "output_type": "display_data"
    },
    {
     "name": "stdout",
     "output_type": "stream",
     "text": [
      "Top 20 features with the highest coefficients:\n",
      "two: 8.5217\n",
      "even: 7.9425\n",
      "may: 6.8259\n",
      "make: 6.7962\n",
      "would: 6.7444\n",
      "get: 6.5506\n",
      "back: 6.4700\n",
      "expressed: 5.7535\n",
      "also: 5.6773\n",
      "going: 5.5186\n",
      "photo: 5.3177\n",
      "people: 5.2292\n",
      "know: 5.1336\n",
      "really: 5.0705\n",
      "way: 4.6960\n",
      "say: 4.6874\n",
      "like: 4.6600\n",
      "day: 4.4970\n",
      "new: 4.4581\n",
      "told: 4.3715\n"
     ]
    }
   ],
   "source": [
    "import numpy as np\n",
    "import matplotlib.pyplot as plt\n",
    "from sklearn.feature_extraction.text import TfidfVectorizer\n",
    "\n",
    "# Create the TF-IDF vectorizer and transform the data\n",
    "tfidf_vectorizer = TfidfVectorizer(max_features=5000)\n",
    "X_train_tfidf = tfidf_vectorizer.fit_transform(X_train)\n",
    "feature_names = np.array(tfidf_vectorizer.get_feature_names())\n",
    "\n",
    "# Train the logistic regression model\n",
    "logistic_regression_model = LogisticRegression(max_iter=1000)\n",
    "logistic_regression_model.fit(X_train_tfidf, y_train)\n",
    "\n",
    "# Get the coefficients of the trained model\n",
    "coef = logistic_regression_model.coef_[0]\n",
    "\n",
    "# Sort the coefficients and feature names\n",
    "sorted_coef_indices = np.argsort(np.abs(coef))[::-1]\n",
    "sorted_coef = coef[sorted_coef_indices]\n",
    "sorted_feature_names = feature_names[sorted_coef_indices]\n",
    "\n",
    "# Plot the top 20 features with the highest coefficients\n",
    "plt.figure(figsize=(10, 6))\n",
    "top_n = 20\n",
    "top_features = sorted_feature_names[:top_n]\n",
    "top_coef = sorted_coef[:top_n]\n",
    "y_pos = np.arange(top_n)\n",
    "\n",
    "plt.barh(y_pos, top_coef, align='center')\n",
    "plt.yticks(y_pos, top_features)\n",
    "plt.xlabel('Coefficient')\n",
    "plt.title('Top Features by Coefficient')\n",
    "\n",
    "plt.tight_layout()\n",
    "plt.show()\n",
    "\n",
    "# Print the top 20 features with the highest coefficients\n",
    "print(\"Top 20 features with the highest coefficients:\")\n",
    "for feature, coef in zip(top_features, top_coef):\n",
    "    print(f\"{feature}: {coef:.4f}\")"
   ]
  },
  {
   "cell_type": "markdown",
   "id": "822dc6d4",
   "metadata": {},
   "source": [
    "# Naive Bayes Human vs AI Prediction"
   ]
  },
  {
   "cell_type": "code",
   "execution_count": 25,
   "id": "cdf2aaf4",
   "metadata": {},
   "outputs": [
    {
     "name": "stdout",
     "output_type": "stream",
     "text": [
      "Naive Bayes Accuracy: 0.9736203759854457\n",
      "Naive Bayes Classification Report:\n",
      "              precision    recall  f1-score   support\n",
      "\n",
      "           0       0.97      0.97      0.97      1651\n",
      "           1       0.97      0.97      0.97      1647\n",
      "\n",
      "    accuracy                           0.97      3298\n",
      "   macro avg       0.97      0.97      0.97      3298\n",
      "weighted avg       0.97      0.97      0.97      3298\n",
      "\n"
     ]
    },
    {
     "data": {
      "image/png": "[encoded data removed]",
      "text/plain": [
       "<Figure size 864x360 with 2 Axes>"
      ]
     },
     "metadata": {
      "needs_background": "light"
     },
     "output_type": "display_data"
    },
    {
     "name": "stdout",
     "output_type": "stream",
     "text": [
      "Model does not seem to be overfitting.\n"
     ]
    }
   ],
   "source": [
    "# Naive Bayes model\n",
    "naive_bayes_model = MultinomialNB()\n",
    "\n",
    "# Lists to store accuracy and loss values\n",
    "train_accuracy = []\n",
    "val_accuracy = []\n",
    "train_loss = []\n",
    "val_loss = []\n",
    "\n",
    "# Train the model and store accuracy and loss values\n",
    "for epoch in range(100):\n",
    "    naive_bayes_model.fit(X_train_tfidf, y_train)\n",
    "    \n",
    "    # Calculate training accuracy and loss\n",
    "    train_preds = naive_bayes_model.predict(X_train_tfidf)\n",
    "    train_accuracy.append(accuracy_score(y_train, train_preds))\n",
    "    train_loss.append(1 - naive_bayes_model.score(X_train_tfidf, y_train))\n",
    "    \n",
    "    # Calculate validation accuracy and loss\n",
    "    val_preds = naive_bayes_model.predict(X_test_tfidf)\n",
    "    val_accuracy.append(accuracy_score(y_test, val_preds))\n",
    "    val_loss.append(1 - naive_bayes_model.score(X_test_tfidf, y_test))\n",
    "\n",
    "# Evaluate Naive Bayes model\n",
    "print(\"Naive Bayes Accuracy:\", accuracy_score(y_test, naive_bayes_model.predict(X_test_tfidf)))\n",
    "print(\"Naive Bayes Classification Report:\")\n",
    "print(classification_report(y_test, naive_bayes_model.predict(X_test_tfidf)))\n",
    "\n",
    "# Plot accuracy and loss curves\n",
    "epochs = range(1, len(train_accuracy) + 1)\n",
    "\n",
    "plt.figure(figsize=(12, 5))\n",
    "plt.subplot(1, 2, 1)\n",
    "plt.plot(epochs, train_accuracy, 'bo-', label='Training Accuracy')\n",
    "plt.plot(epochs, val_accuracy, 'ro-', label='Validation Accuracy')\n",
    "plt.xlabel('Epochs')\n",
    "plt.ylabel('Accuracy')\n",
    "plt.title('Accuracy Curves')\n",
    "plt.legend()\n",
    "\n",
    "plt.subplot(1, 2, 2)\n",
    "plt.plot(epochs, train_loss, 'bo-', label='Training Loss')\n",
    "plt.plot(epochs, val_loss, 'ro-', label='Validation Loss')\n",
    "plt.xlabel('Epochs')\n",
    "plt.ylabel('Loss')\n",
    "plt.title('Loss Curves')\n",
    "plt.legend()\n",
    "\n",
    "plt.tight_layout()\n",
    "plt.show()\n",
    "\n",
    "# Check for overfitting\n",
    "if train_accuracy[-1] - val_accuracy[-1] > 0.2 or val_loss[-1] - train_loss[-1] > 0.2:\n",
    "    print(\"Warning: Model may be overfitting.\")\n",
    "else:\n",
    "    print(\"Model does not seem to be overfitting.\")"
   ]
  },
  {
   "cell_type": "code",
   "execution_count": null,
   "id": "08af4262",
   "metadata": {},
   "outputs": [],
   "source": []
  }
 ],
 "metadata": {
  "kernelspec": {
   "display_name": "Python 3",
   "language": "python",
   "name": "python3"
  },
  "language_info": {
   "codemirror_mode": {
    "name": "ipython",
    "version": 3
   },
   "file_extension": ".py",
   "mimetype": "text/x-python",
   "name": "python",
   "nbconvert_exporter": "python",
   "pygments_lexer": "ipython3",
   "version": "3.8.8"
  }
 },
 "nbformat": 4,
 "nbformat_minor": 5
}
